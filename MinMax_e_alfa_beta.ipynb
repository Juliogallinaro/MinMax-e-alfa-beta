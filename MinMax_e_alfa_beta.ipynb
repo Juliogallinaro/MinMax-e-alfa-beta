{
  "nbformat": 4,
  "nbformat_minor": 0,
  "metadata": {
    "colab": {
      "name": "MinMax e alfa-beta.ipynb",
      "provenance": [],
      "authorship_tag": "ABX9TyOP98/dmsdpj/xlf4n6iANB",
      "include_colab_link": true
    },
    "kernelspec": {
      "name": "python3",
      "display_name": "Python 3"
    },
    "language_info": {
      "name": "python"
    }
  },
  "cells": [
    {
      "cell_type": "markdown",
      "metadata": {
        "id": "view-in-github",
        "colab_type": "text"
      },
      "source": [
        "<a href=\"https://colab.research.google.com/github/Juliogallinaro/MinMax-e-alfa-beta/blob/main/MinMax_e_alfa_beta.ipynb\" target=\"_parent\"><img src=\"https://colab.research.google.com/assets/colab-badge.svg\" alt=\"Open In Colab\"/></a>"
      ]
    },
    {
      "cell_type": "markdown",
      "source": [
        "#Implementação MinMax e MinMax com poda alfa-beta para o jogo da velha\n",
        "\n",
        "---\n",
        "\n"
      ],
      "metadata": {
        "id": "J2qUxv8nZcOT"
      }
    },
    {
      "cell_type": "markdown",
      "source": [
        "##Implementação MinMax"
      ],
      "metadata": {
        "id": "Gn8d4_JFqJ9K"
      }
    },
    {
      "cell_type": "code",
      "execution_count": 101,
      "metadata": {
        "id": "qbV4bJuCo4rp"
      },
      "outputs": [],
      "source": [
        "def iniciar():\n",
        "  return [[' '] * 3 for _ in range(3)]\n",
        "\n",
        "def desenhar(estado):\n",
        "  for i in range(3):\n",
        "    print('|', end = '')\n",
        "    for j in range(3):\n",
        "      print('{}|'.format(estado[i][j]), end ='')\n",
        "    print()\n",
        "  print()\n",
        "\n",
        "#retorna:\n",
        "#'x' se x ganhou\n",
        "#'o' se o ganhou\n",
        "#'-' se empatou\n",
        "#' ' se não acabou\n",
        "def acabou(estado):\n",
        "  #checando vitorias horizontais e verticais\n",
        "  for i in range(3):\n",
        "    if estado[i] == ['x'] * 3:\n",
        "      return 'x'\n",
        "    if estado[i] == ['o'] * 3:\n",
        "      return 'o'\n",
        "    if estado[0][i] != ' ' and estado[0][i] == estado[1][i] and estado[1][i] == estado[2][i]:\n",
        "      return estado[0][i]\n",
        "    \n",
        "  #checando a diagonal principal\n",
        "  if estado[0][0] != ' ' and estado[0][0] == estado[1][1] and estado[1][1] == estado[2][2]:\n",
        "    return estado[0][0]\n",
        "\n",
        "  #checando a diagonal invertida\n",
        "  if estado[0][2] != ' ' and estado[0][2] == estado[1][1] and estado[1][1] == estado[2][0]:\n",
        "    return estado[0][2]\n",
        "\n",
        "  if ' ' in estado[0] + estado[1] + estado[2]:\n",
        "    return ' '\n",
        "\n",
        "  return '-'\n",
        "\n",
        "#retorna uma tupla sendo o:\n",
        "#1o valor: pontuação do estado\n",
        "#2o valor: posição da jogada que resulta na pontuação do 1o valor\n",
        "def jog_max(estado):\n",
        "  final = acabou(estado)\n",
        "  if final == 'x':\n",
        "    return(1, (-1, -1))\n",
        "  if final == 'o':\n",
        "    return(-1, (-1, -1))\n",
        "  if final == '-':\n",
        "    return(0, (-1, -1))\n",
        "\n",
        "  maior = -2 #\n",
        "  for i in range(3):\n",
        "    for j in range(3):\n",
        "      if estado[i][j] == ' ':\n",
        "        estado[i][j] = 'x' #\n",
        "        (pontuacao, (jog_x, jog_y)) = jog_min(estado)\n",
        "        if pontuacao > maior: #\n",
        "          maior = pontuacao\n",
        "          melhor_jogada = (i, j)\n",
        "        estado[i][j] = ' '\n",
        "\n",
        "  return(maior, melhor_jogada)\n",
        "\n",
        "def jog_min(estado):\n",
        "  final = acabou(estado)\n",
        "  if final == 'x':\n",
        "    return(1, (-1, -1))\n",
        "  if final == 'o':\n",
        "    return(-1, (-1, -1))\n",
        "  if final == '-':\n",
        "    return(0, (-1, -1))\n",
        "\n",
        "  menor = 2 #\n",
        "  for i in range(3):\n",
        "    for j in range(3):\n",
        "      if estado[i][j] == ' ':\n",
        "        estado[i][j] = 'o' #\n",
        "        (pontuacao, (jog_x, jog_y)) = jog_max(estado)\n",
        "        if pontuacao < menor: #\n",
        "          menor = pontuacao\n",
        "          melhor_jogada = (i, j)\n",
        "        estado[i][j] = ' '\n",
        "\n",
        "  return(menor, melhor_jogada)"
      ]
    },
    {
      "cell_type": "markdown",
      "source": [
        "### Jogo entre IAs"
      ],
      "metadata": {
        "id": "dHQR22d_Yh9a"
      }
    },
    {
      "cell_type": "code",
      "source": [
        "def jogar_ia_vs_ia():\n",
        "  jogo = iniciar()\n",
        "  desenhar(jogo)\n",
        "  while acabou(jogo) == ' ':\n",
        "    jogo[jog_max(jogo)[1][0]][jog_max(jogo)[1][1]]='x'\n",
        "    desenhar(jogo)\n",
        "    if  acabou(jogo) == 'x':\n",
        "      print('x ganhou!') \n",
        "      break  \n",
        "    if  acabou(jogo) == '-':\n",
        "       print('empate!')  \n",
        "       break\n",
        "    jogo[jog_min(jogo)[1][0]][jog_min(jogo)[1][1]]='o'\n",
        "    desenhar(jogo)\n",
        "    if  acabou(jogo) == 'o':\n",
        "      print('o ganhou!')   \n",
        "    if  acabou(jogo) == '-':\n",
        "      print('empate!')  \n"
      ],
      "metadata": {
        "id": "I5od04Rap7g5"
      },
      "execution_count": 102,
      "outputs": []
    },
    {
      "cell_type": "code",
      "source": [
        "jogar_ia_vs_ia()"
      ],
      "metadata": {
        "colab": {
          "base_uri": "https://localhost:8080/"
        },
        "id": "jhJyUHthyiGW",
        "outputId": "eae5759e-66a0-47eb-b4a6-168a1eb8b7ba"
      },
      "execution_count": 103,
      "outputs": [
        {
          "output_type": "stream",
          "name": "stdout",
          "text": [
            "| | | |\n",
            "| | | |\n",
            "| | | |\n",
            "\n",
            "|x| | |\n",
            "| | | |\n",
            "| | | |\n",
            "\n",
            "|x| | |\n",
            "| |o| |\n",
            "| | | |\n",
            "\n",
            "|x|x| |\n",
            "| |o| |\n",
            "| | | |\n",
            "\n",
            "|x|x|o|\n",
            "| |o| |\n",
            "| | | |\n",
            "\n",
            "|x|x|o|\n",
            "| |o| |\n",
            "|x| | |\n",
            "\n",
            "|x|x|o|\n",
            "|o|o| |\n",
            "|x| | |\n",
            "\n",
            "|x|x|o|\n",
            "|o|o|x|\n",
            "|x| | |\n",
            "\n",
            "|x|x|o|\n",
            "|o|o|x|\n",
            "|x|o| |\n",
            "\n",
            "|x|x|o|\n",
            "|o|o|x|\n",
            "|x|o|x|\n",
            "\n",
            "empate!\n"
          ]
        }
      ]
    },
    {
      "cell_type": "markdown",
      "source": [
        "###Jogo entre IAs com início aleatório\n",
        "\n",
        "Como o algoritimo sempre escolhe a mesma casa no início do jogo esse método foi feito para gerar um inicio aleatório para o jogo mostrando que o minmax funciona bem mesmo quando a primeira melhor jogada não é escolida pelo algoritmo."
      ],
      "metadata": {
        "id": "shxxJAvPYouN"
      }
    },
    {
      "cell_type": "code",
      "source": [
        "import random"
      ],
      "metadata": {
        "id": "V-jCBljF5dnF"
      },
      "execution_count": 10,
      "outputs": []
    },
    {
      "cell_type": "code",
      "source": [
        "def jogar_ia_vs_ia_aleatorio():\n",
        "  jogo = iniciar()\n",
        "  jogo[random.randrange(0, 3)][random.randrange(0, 3)] = 'x' #inicia x aleatoriamente\n",
        "  desenhar(jogo)\n",
        "  while acabou(jogo) == ' ':\n",
        "    jogo[jog_min(jogo)[1][0]][jog_min(jogo)[1][1]]='o'\n",
        "    desenhar(jogo)\n",
        "    if  acabou(jogo) == 'o':\n",
        "      print('o ganhou!') \n",
        "      break  \n",
        "    if  acabou(jogo) == '-':\n",
        "       print('empate!')  \n",
        "       break\n",
        "    jogo[jog_max(jogo)[1][0]][jog_max(jogo)[1][1]]='x'\n",
        "    desenhar(jogo)\n",
        "    if  acabou(jogo) == 'x':\n",
        "      print('x ganhou!') \n",
        "      break  \n",
        "    if  acabou(jogo) == '-':\n",
        "       print('empate!')  \n",
        "       break"
      ],
      "metadata": {
        "id": "7Ya973l94jyD"
      },
      "execution_count": 45,
      "outputs": []
    },
    {
      "cell_type": "code",
      "source": [
        "jogar_ia_vs_ia_aleatorio()"
      ],
      "metadata": {
        "colab": {
          "base_uri": "https://localhost:8080/"
        },
        "id": "ZrbszXDi5l2-",
        "outputId": "2d2f80b7-3da1-4e2b-cb0c-26cefe3b9284"
      },
      "execution_count": 49,
      "outputs": [
        {
          "output_type": "stream",
          "name": "stdout",
          "text": [
            "| |x| |\n",
            "| | | |\n",
            "| | | |\n",
            "\n",
            "|o|x| |\n",
            "| | | |\n",
            "| | | |\n",
            "\n",
            "|o|x| |\n",
            "|x| | |\n",
            "| | | |\n",
            "\n",
            "|o|x| |\n",
            "|x|o| |\n",
            "| | | |\n",
            "\n",
            "|o|x| |\n",
            "|x|o| |\n",
            "| | |x|\n",
            "\n",
            "|o|x|o|\n",
            "|x|o| |\n",
            "| | |x|\n",
            "\n",
            "|o|x|o|\n",
            "|x|o| |\n",
            "|x| |x|\n",
            "\n",
            "|o|x|o|\n",
            "|x|o| |\n",
            "|x|o|x|\n",
            "\n",
            "|o|x|o|\n",
            "|x|o|x|\n",
            "|x|o|x|\n",
            "\n",
            "empate!\n"
          ]
        }
      ]
    },
    {
      "cell_type": "markdown",
      "source": [
        "###Jogo Humano vs. IA\n",
        "\n",
        "O jogo possui a opção do humano iniciar ou não, jogando sempre como \"o\"."
      ],
      "metadata": {
        "id": "8GF6gO1vYz7O"
      }
    },
    {
      "cell_type": "code",
      "source": [
        "def jogar_ia_vs_humano():\n",
        "  jogo = iniciar()\n",
        "  init = input(\"Deseja começar (S, N)?\")\n",
        "  desenhar(jogo)\n",
        "  if init == 'S':\n",
        "    print(\"Você jogará como: o\")\n",
        "    while acabou(jogo) == ' ':\n",
        "      pos_x = input(\"Digite a linha da casa que quer jogar (0,1,2):\")\n",
        "      pos_y = input(\"Digite a coluna da casa que quer jogar (0,1,2):\")\n",
        "      jogo[int(pos_x)][int(pos_y)]='o'\n",
        "      desenhar(jogo)\n",
        "      if  acabou(jogo) == 'x':\n",
        "        print('x ganhou!') \n",
        "        break  \n",
        "      if  acabou(jogo) == '-':\n",
        "        print('empate!')  \n",
        "        break\n",
        "      jogo[jog_max(jogo)[1][0]][jog_max(jogo)[1][1]]='x'\n",
        "      desenhar(jogo)\n",
        "      if  acabou(jogo) == 'x':\n",
        "        print('x ganhou!') \n",
        "        break  \n",
        "      if  acabou(jogo) == '-':\n",
        "        print('empate!')  \n",
        "        break\n",
        "\n",
        "  if init == 'N':\n",
        "    print(\"Você jogará como: o\")\n",
        "    while acabou(jogo) == ' ':\n",
        "      jogo[jog_max(jogo)[1][0]][jog_max(jogo)[1][1]]='x'\n",
        "      desenhar(jogo)\n",
        "      if  acabou(jogo) == 'x':\n",
        "        print('x ganhou!') \n",
        "        break  \n",
        "      if  acabou(jogo) == '-':\n",
        "        print('empate!')  \n",
        "        break\n",
        "      pos_x = input(\"Digite a linha da casa que quer jogar (0,1,2):\")\n",
        "      pos_y = input(\"Digite a coluna da casa que quer jogar (0,1,2):\")\n",
        "      jogo[int(pos_x)][int(pos_y)]='o'\n",
        "      desenhar(jogo)\n",
        "      if  acabou(jogo) == 'x':\n",
        "        print('x ganhou!') \n",
        "        break  \n",
        "      if  acabou(jogo) == '-':\n",
        "        print('empate!')  \n",
        "        break\n"
      ],
      "metadata": {
        "id": "4fDMVY1MIQmO"
      },
      "execution_count": 54,
      "outputs": []
    },
    {
      "cell_type": "code",
      "source": [
        "jogar_ia_vs_humano()"
      ],
      "metadata": {
        "colab": {
          "base_uri": "https://localhost:8080/"
        },
        "id": "bx-x-hhSK6Va",
        "outputId": "2cc7d477-c65d-411d-8d99-52ab2dcc03cb"
      },
      "execution_count": 56,
      "outputs": [
        {
          "output_type": "stream",
          "name": "stdout",
          "text": [
            "Deseja começar (S, N)?S\n",
            "| | | |\n",
            "| | | |\n",
            "| | | |\n",
            "\n",
            "Você jogará como: o\n",
            "Digite a linha da casa que quer jogar (0,1,2):0\n",
            "Digite a coluna da casa que quer jogar (0,1,2):0\n",
            "|o| | |\n",
            "| | | |\n",
            "| | | |\n",
            "\n",
            "|o| | |\n",
            "| |x| |\n",
            "| | | |\n",
            "\n",
            "Digite a linha da casa que quer jogar (0,1,2):2\n",
            "Digite a coluna da casa que quer jogar (0,1,2):2\n",
            "|o| | |\n",
            "| |x| |\n",
            "| | |o|\n",
            "\n",
            "|o|x| |\n",
            "| |x| |\n",
            "| | |o|\n",
            "\n",
            "Digite a linha da casa que quer jogar (0,1,2):2\n",
            "Digite a coluna da casa que quer jogar (0,1,2):1\n",
            "|o|x| |\n",
            "| |x| |\n",
            "| |o|o|\n",
            "\n",
            "|o|x| |\n",
            "| |x| |\n",
            "|x|o|o|\n",
            "\n",
            "Digite a linha da casa que quer jogar (0,1,2):0\n",
            "Digite a coluna da casa que quer jogar (0,1,2):2\n",
            "|o|x|o|\n",
            "| |x| |\n",
            "|x|o|o|\n",
            "\n",
            "|o|x|o|\n",
            "| |x|x|\n",
            "|x|o|o|\n",
            "\n",
            "Digite a linha da casa que quer jogar (0,1,2):1\n",
            "Digite a coluna da casa que quer jogar (0,1,2):0\n",
            "|o|x|o|\n",
            "|o|x|x|\n",
            "|x|o|o|\n",
            "\n",
            "empate!\n"
          ]
        }
      ]
    },
    {
      "cell_type": "code",
      "source": [
        "jogar_ia_vs_humano()"
      ],
      "metadata": {
        "colab": {
          "base_uri": "https://localhost:8080/"
        },
        "id": "IVS6XYnHX5MB",
        "outputId": "4a4a6c0b-3a96-448a-a97f-bed4e998fc7a"
      },
      "execution_count": 57,
      "outputs": [
        {
          "output_type": "stream",
          "name": "stdout",
          "text": [
            "Deseja começar (S, N)?N\n",
            "| | | |\n",
            "| | | |\n",
            "| | | |\n",
            "\n",
            "Você jogará como: o\n",
            "|x| | |\n",
            "| | | |\n",
            "| | | |\n",
            "\n",
            "Digite a linha da casa que quer jogar (0,1,2):1\n",
            "Digite a coluna da casa que quer jogar (0,1,2):1\n",
            "|x| | |\n",
            "| |o| |\n",
            "| | | |\n",
            "\n",
            "|x|x| |\n",
            "| |o| |\n",
            "| | | |\n",
            "\n",
            "Digite a linha da casa que quer jogar (0,1,2):0\n",
            "Digite a coluna da casa que quer jogar (0,1,2):2\n",
            "|x|x|o|\n",
            "| |o| |\n",
            "| | | |\n",
            "\n",
            "|x|x|o|\n",
            "| |o| |\n",
            "|x| | |\n",
            "\n",
            "Digite a linha da casa que quer jogar (0,1,2):1\n",
            "Digite a coluna da casa que quer jogar (0,1,2):0\n",
            "|x|x|o|\n",
            "|o|o| |\n",
            "|x| | |\n",
            "\n",
            "|x|x|o|\n",
            "|o|o|x|\n",
            "|x| | |\n",
            "\n",
            "Digite a linha da casa que quer jogar (0,1,2):2\n",
            "Digite a coluna da casa que quer jogar (0,1,2):2\n",
            "|x|x|o|\n",
            "|o|o|x|\n",
            "|x| |o|\n",
            "\n",
            "|x|x|o|\n",
            "|o|o|x|\n",
            "|x|x|o|\n",
            "\n",
            "empate!\n"
          ]
        }
      ]
    },
    {
      "cell_type": "markdown",
      "source": [
        "##Implementação MinMax com poda alfa-beta para jogo da velha"
      ],
      "metadata": {
        "id": "p9cxLrSZnB-_"
      }
    },
    {
      "cell_type": "code",
      "source": [
        "def jog_max_alpha_beta(estado, alfa, beta):\n",
        "  final = acabou(estado)\n",
        "  if final == 'x':\n",
        "    return(1, (-1, -1))\n",
        "  if final == 'o':\n",
        "    return(-1, (-1, -1))\n",
        "  if final == '-':\n",
        "    return(0, (-1, -1))\n",
        "\n",
        "  maior = -2 #\n",
        "  for i in range(3):\n",
        "    for j in range(3):\n",
        "      if estado[i][j] == ' ':\n",
        "        estado[i][j] = 'x' #\n",
        "        (pontuacao, (jog_x, jog_y)) = jog_min_alpha_beta(estado, alfa, beta)\n",
        "        if pontuacao > maior: #\n",
        "          maior = pontuacao\n",
        "          melhor_jogada = (i, j)\n",
        "        estado[i][j] = ' '\n",
        "\n",
        "        if maior >= beta:\n",
        "          return(maior, melhor_jogada)\n",
        "\n",
        "        if maior > alfa:\n",
        "          alfa = maior\n",
        "\n",
        "  return(maior, melhor_jogada)\n",
        "\n",
        "def jog_min_alpha_beta(estado, alfa, beta):\n",
        "  final = acabou(estado)\n",
        "  if final == 'x':\n",
        "    return(1, (-1, -1))\n",
        "  if final == 'o':\n",
        "    return(-1, (-1, -1))\n",
        "  if final == '-':\n",
        "    return(0, (-1, -1))\n",
        "\n",
        "  menor = 2 #\n",
        "  for i in range(3):\n",
        "    for j in range(3):\n",
        "      if estado[i][j] == ' ':\n",
        "        estado[i][j] = 'o' #\n",
        "        (pontuacao, (jog_x, jog_y)) = jog_max_alpha_beta(estado, alfa, beta)\n",
        "        if pontuacao < menor: #\n",
        "          menor = pontuacao\n",
        "          melhor_jogada = (i, j)\n",
        "        estado[i][j] = ' '\n",
        "\n",
        "        if menor <= alfa:\n",
        "          return(menor, melhor_jogada)\n",
        "\n",
        "        if menor < beta:\n",
        "          beta = menor\n",
        "\n",
        "  return(menor, melhor_jogada)\n"
      ],
      "metadata": {
        "id": "bRmttFvQYK8e"
      },
      "execution_count": 78,
      "outputs": []
    },
    {
      "cell_type": "markdown",
      "source": [
        "### Jogo entre IAs"
      ],
      "metadata": {
        "id": "2SqOzMFGnVZh"
      }
    },
    {
      "cell_type": "code",
      "source": [
        "def jogar_ia_vs_ia_alfabeta():\n",
        "  jogo = iniciar()\n",
        "  desenhar(jogo)\n",
        "  while acabou(jogo) == ' ':\n",
        "    jogo[jog_max_alpha_beta(jogo,-2,2)[1][0]][jog_max_alpha_beta(jogo,-2,2)[1][1]]='x'\n",
        "    desenhar(jogo)\n",
        "    if  acabou(jogo) == 'x':\n",
        "      print('x ganhou!') \n",
        "      break  \n",
        "    if  acabou(jogo) == '-':\n",
        "       print('empate!')  \n",
        "       break\n",
        "    jogo[jog_min_alpha_beta(jogo,-2,2)[1][0]][jog_min_alpha_beta(jogo,-2,2)[1][1]]='o'\n",
        "    desenhar(jogo)\n",
        "    if  acabou(jogo) == 'o':\n",
        "      print('o ganhou!')   \n",
        "    if  acabou(jogo) == '-':\n",
        "      print('empate!')  "
      ],
      "metadata": {
        "id": "FhD0cxf6bocA"
      },
      "execution_count": 81,
      "outputs": []
    },
    {
      "cell_type": "code",
      "source": [
        "jogar_ia_vs_ia_alfabeta()"
      ],
      "metadata": {
        "colab": {
          "base_uri": "https://localhost:8080/"
        },
        "id": "DBJyhS1ihYbV",
        "outputId": "6c8db7be-9d23-459d-8f5c-43db02659d6f"
      },
      "execution_count": 83,
      "outputs": [
        {
          "output_type": "stream",
          "name": "stdout",
          "text": [
            "| | | |\n",
            "| | | |\n",
            "| | | |\n",
            "\n",
            "|x| | |\n",
            "| | | |\n",
            "| | | |\n",
            "\n",
            "|x| | |\n",
            "| |o| |\n",
            "| | | |\n",
            "\n",
            "|x|x| |\n",
            "| |o| |\n",
            "| | | |\n",
            "\n",
            "|x|x|o|\n",
            "| |o| |\n",
            "| | | |\n",
            "\n",
            "|x|x|o|\n",
            "| |o| |\n",
            "|x| | |\n",
            "\n",
            "|x|x|o|\n",
            "|o|o| |\n",
            "|x| | |\n",
            "\n",
            "|x|x|o|\n",
            "|o|o|x|\n",
            "|x| | |\n",
            "\n",
            "|x|x|o|\n",
            "|o|o|x|\n",
            "|x|o| |\n",
            "\n",
            "|x|x|o|\n",
            "|o|o|x|\n",
            "|x|o|x|\n",
            "\n",
            "empate!\n"
          ]
        }
      ]
    },
    {
      "cell_type": "markdown",
      "source": [
        "###Jogo entre IAs com início aleatório\n",
        "\n",
        "Assim como no minmax, o algoritimo sempre escolhe a mesma casa no início do jogo esse método foi feito para gerar um inicio aleatório para o jogo mostrando que o minmax com poda alfa-beta funciona bem mesmo quando a primeira melhor jogada não é escolida pelo algoritmo."
      ],
      "metadata": {
        "id": "PXqJDv7fm7c5"
      }
    },
    {
      "cell_type": "code",
      "source": [
        "def jogar_ia_vs_ia_alfabeta_aleatorio():\n",
        "  jogo = iniciar()\n",
        "  jogo[random.randrange(0, 3)][random.randrange(0, 3)] = 'x' #inicia x aleatoriamente\n",
        "  desenhar(jogo)\n",
        "  while acabou(jogo) == ' ':\n",
        "    jogo[jog_min_alpha_beta(jogo,-2,2)[1][0]][jog_min_alpha_beta(jogo,-2,2)[1][1]]='o'\n",
        "    desenhar(jogo)\n",
        "    if  acabou(jogo) == 'o':\n",
        "      print('o ganhou!') \n",
        "      break  \n",
        "    if  acabou(jogo) == '-':\n",
        "       print('empate!')  \n",
        "       break\n",
        "    jogo[jog_max_alpha_beta(jogo,-2,2)[1][0]][jog_max_alpha_beta(jogo,-2,2)[1][1]]='x'\n",
        "    desenhar(jogo)\n",
        "    if  acabou(jogo) == 'x':\n",
        "      print('x ganhou!') \n",
        "      break  \n",
        "    if  acabou(jogo) == '-':\n",
        "       print('empate!')  \n",
        "       break"
      ],
      "metadata": {
        "id": "Nvf6vpF8ngu7"
      },
      "execution_count": 84,
      "outputs": []
    },
    {
      "cell_type": "code",
      "source": [
        "jogar_ia_vs_ia_alfabeta_aleatorio()"
      ],
      "metadata": {
        "colab": {
          "base_uri": "https://localhost:8080/"
        },
        "id": "iHyLKs3moFPM",
        "outputId": "4fcd12a3-6f49-4766-d71b-5bf3021a7c6d"
      },
      "execution_count": 91,
      "outputs": [
        {
          "output_type": "stream",
          "name": "stdout",
          "text": [
            "| | | |\n",
            "| | |x|\n",
            "| | | |\n",
            "\n",
            "| | |o|\n",
            "| | |x|\n",
            "| | | |\n",
            "\n",
            "|x| |o|\n",
            "| | |x|\n",
            "| | | |\n",
            "\n",
            "|x| |o|\n",
            "|o| |x|\n",
            "| | | |\n",
            "\n",
            "|x|x|o|\n",
            "|o| |x|\n",
            "| | | |\n",
            "\n",
            "|x|x|o|\n",
            "|o|o|x|\n",
            "| | | |\n",
            "\n",
            "|x|x|o|\n",
            "|o|o|x|\n",
            "|x| | |\n",
            "\n",
            "|x|x|o|\n",
            "|o|o|x|\n",
            "|x|o| |\n",
            "\n",
            "|x|x|o|\n",
            "|o|o|x|\n",
            "|x|o|x|\n",
            "\n",
            "empate!\n"
          ]
        }
      ]
    },
    {
      "cell_type": "markdown",
      "source": [
        "###Jogo Humano vs. IA\n",
        "\n",
        "O jogo possui a opção do humano iniciar ou não, jogando sempre como \"o\"."
      ],
      "metadata": {
        "id": "1jBaWTxYocKH"
      }
    },
    {
      "cell_type": "code",
      "source": [
        "def jogar_ia_vs_humano_alpha_beta():\n",
        "  jogo = iniciar()\n",
        "  init = input(\"Deseja começar (S, N)?\")\n",
        "  desenhar(jogo)\n",
        "  if init == 'S':\n",
        "    print(\"Você jogará como: o\")\n",
        "    while acabou(jogo) == ' ':\n",
        "      pos_x = input(\"Digite a linha da casa que quer jogar (0,1,2):\")\n",
        "      pos_y = input(\"Digite a coluna da casa que quer jogar (0,1,2):\")\n",
        "      jogo[int(pos_x)][int(pos_y)]='o'\n",
        "      desenhar(jogo)\n",
        "      if  acabou(jogo) == 'x':\n",
        "        print('x ganhou!') \n",
        "        break  \n",
        "      if  acabou(jogo) == '-':\n",
        "        print('empate!')  \n",
        "        break\n",
        "      jogo[jog_max_alpha_beta(jogo,-2,2)[1][0]][jog_max_alpha_beta(jogo,-2,2)[1][1]]='x'\n",
        "      desenhar(jogo)\n",
        "      if  acabou(jogo) == 'x':\n",
        "        print('x ganhou!') \n",
        "        break  \n",
        "      if  acabou(jogo) == '-':\n",
        "        print('empate!')  \n",
        "        break\n",
        "\n",
        "  if init == 'N':\n",
        "    print(\"Você jogará como: o\")\n",
        "    while acabou(jogo) == ' ':\n",
        "      jogo[jog_max_alpha_beta(jogo,-2,2)[1][0]][jog_max_alpha_beta(jogo,-2,2)[1][1]]='x'\n",
        "      desenhar(jogo)\n",
        "      if  acabou(jogo) == 'x':\n",
        "        print('x ganhou!') \n",
        "        break  \n",
        "      if  acabou(jogo) == '-':\n",
        "        print('empate!')  \n",
        "        break\n",
        "      pos_x = input(\"Digite a linha da casa que quer jogar (0,1,2):\")\n",
        "      pos_y = input(\"Digite a coluna da casa que quer jogar (0,1,2):\")\n",
        "      jogo[int(pos_x)][int(pos_y)]='o'\n",
        "      desenhar(jogo)\n",
        "      if  acabou(jogo) == 'x':\n",
        "        print('x ganhou!') \n",
        "        break  \n",
        "      if  acabou(jogo) == '-':\n",
        "        print('empate!')  \n",
        "        break\n"
      ],
      "metadata": {
        "id": "VGJq9eydomQO"
      },
      "execution_count": 96,
      "outputs": []
    },
    {
      "cell_type": "code",
      "source": [
        "jogar_ia_vs_humano_alpha_beta()"
      ],
      "metadata": {
        "colab": {
          "base_uri": "https://localhost:8080/"
        },
        "id": "I55L9yjvo1JN",
        "outputId": "428cfc0a-02fc-47ca-dc6d-82f8f44c70c0"
      },
      "execution_count": 98,
      "outputs": [
        {
          "output_type": "stream",
          "name": "stdout",
          "text": [
            "Deseja começar (S, N)?S\n",
            "| | | |\n",
            "| | | |\n",
            "| | | |\n",
            "\n",
            "Você jogará como: o\n",
            "Digite a linha da casa que quer jogar (0,1,2):1\n",
            "Digite a coluna da casa que quer jogar (0,1,2):1\n",
            "| | | |\n",
            "| |o| |\n",
            "| | | |\n",
            "\n",
            "|x| | |\n",
            "| |o| |\n",
            "| | | |\n",
            "\n",
            "Digite a linha da casa que quer jogar (0,1,2):0\n",
            "Digite a coluna da casa que quer jogar (0,1,2):2\n",
            "|x| |o|\n",
            "| |o| |\n",
            "| | | |\n",
            "\n",
            "|x| |o|\n",
            "| |o| |\n",
            "|x| | |\n",
            "\n",
            "Digite a linha da casa que quer jogar (0,1,2):1\n",
            "Digite a coluna da casa que quer jogar (0,1,2):0\n",
            "|x| |o|\n",
            "|o|o| |\n",
            "|x| | |\n",
            "\n",
            "|x| |o|\n",
            "|o|o|x|\n",
            "|x| | |\n",
            "\n",
            "Digite a linha da casa que quer jogar (0,1,2):2\n",
            "Digite a coluna da casa que quer jogar (0,1,2):2\n",
            "|x| |o|\n",
            "|o|o|x|\n",
            "|x| |o|\n",
            "\n",
            "|x|x|o|\n",
            "|o|o|x|\n",
            "|x| |o|\n",
            "\n",
            "Digite a linha da casa que quer jogar (0,1,2):2\n",
            "Digite a coluna da casa que quer jogar (0,1,2):1\n",
            "|x|x|o|\n",
            "|o|o|x|\n",
            "|x|o|o|\n",
            "\n",
            "empate!\n"
          ]
        }
      ]
    },
    {
      "cell_type": "code",
      "source": [
        "jogar_ia_vs_humano_alpha_beta()"
      ],
      "metadata": {
        "colab": {
          "base_uri": "https://localhost:8080/"
        },
        "id": "7tdQop3dpH6m",
        "outputId": "9ced9e08-37ab-4f83-c777-0d17b412c583"
      },
      "execution_count": 100,
      "outputs": [
        {
          "output_type": "stream",
          "name": "stdout",
          "text": [
            "Deseja começar (S, N)?N\n",
            "| | | |\n",
            "| | | |\n",
            "| | | |\n",
            "\n",
            "Você jogará como: o\n",
            "|x| | |\n",
            "| | | |\n",
            "| | | |\n",
            "\n",
            "Digite a linha da casa que quer jogar (0,1,2):1\n",
            "Digite a coluna da casa que quer jogar (0,1,2):1\n",
            "|x| | |\n",
            "| |o| |\n",
            "| | | |\n",
            "\n",
            "|x|x| |\n",
            "| |o| |\n",
            "| | | |\n",
            "\n",
            "Digite a linha da casa que quer jogar (0,1,2):0\n",
            "Digite a coluna da casa que quer jogar (0,1,2):2\n",
            "|x|x|o|\n",
            "| |o| |\n",
            "| | | |\n",
            "\n",
            "|x|x|o|\n",
            "| |o| |\n",
            "|x| | |\n",
            "\n",
            "Digite a linha da casa que quer jogar (0,1,2):1\n",
            "Digite a coluna da casa que quer jogar (0,1,2):0\n",
            "|x|x|o|\n",
            "|o|o| |\n",
            "|x| | |\n",
            "\n",
            "|x|x|o|\n",
            "|o|o|x|\n",
            "|x| | |\n",
            "\n",
            "Digite a linha da casa que quer jogar (0,1,2):2\n",
            "Digite a coluna da casa que quer jogar (0,1,2):2\n",
            "|x|x|o|\n",
            "|o|o|x|\n",
            "|x| |o|\n",
            "\n",
            "|x|x|o|\n",
            "|o|o|x|\n",
            "|x|x|o|\n",
            "\n",
            "empate!\n"
          ]
        }
      ]
    }
  ]
}